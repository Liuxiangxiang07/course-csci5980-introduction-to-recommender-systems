{
 "cells": [
  {
   "cell_type": "code",
   "execution_count": null,
   "metadata": {
    "collapsed": false
   },
   "outputs": [],
   "source": [
    "import pandas as pd\n",
    "import matplotlib.pyplot as plt\n",
    "%matplotlib inline"
   ]
  },
  {
   "cell_type": "code",
   "execution_count": null,
   "metadata": {
    "collapsed": false
   },
   "outputs": [],
   "source": [
    "df = pd.read_csv('build/eval-results.csv')\n",
    "df = df.rename(columns=lambda x: x.replace('.', '_'))\n",
    "df"
   ]
  },
  {
   "cell_type": "code",
   "execution_count": null,
   "metadata": {
    "collapsed": false
   },
   "outputs": [],
   "source": [
    "constant_algos = set(df.Algorithm[df.NNbrs.isnull()])\n",
    "constant_algos"
   ]
  },
  {
   "cell_type": "code",
   "execution_count": null,
   "metadata": {
    "collapsed": false
   },
   "outputs": [],
   "source": [
    "const_results = df[df.Algorithm.isin(constant_algos)]\n",
    "ddf = df[~df.Algorithm.isin(constant_algos)]\n",
    "dynamic_results = ddf.set_index(['Algorithm', 'NNbrs', 'Partition']).loc[:,'BuildTime':]\n",
    "dynamic_results"
   ]
  },
  {
   "cell_type": "code",
   "execution_count": null,
   "metadata": {
    "collapsed": false
   },
   "outputs": [],
   "source": [
    "const_filt = const_results.loc[:,['Algorithm','RMSE_ByUser','Predict_nDCG','TopN_nDCG','TopN_TagEntropy']]\n",
    "const_summary = const_filt.groupby('Algorithm').mean()\n",
    "const_summary"
   ]
  },
  {
   "cell_type": "markdown",
   "metadata": {},
   "source": [
    "# Reproducing the Handout Charts"
   ]
  },
  {
   "cell_type": "code",
   "execution_count": null,
   "metadata": {
    "collapsed": false
   },
   "outputs": [],
   "source": [
    "const_rmse = df[df.Algorithm.isin(['GlobalMean', 'ItemMean', 'PersMean'])]\n",
    "const_rmse = const_rmse.pivot(index='Partition', columns='Algorithm', values='RMSE_ByUser')\n",
    "const_rmse.plot(kind='box')"
   ]
  },
  {
   "cell_type": "code",
   "execution_count": null,
   "metadata": {
    "collapsed": false
   },
   "outputs": [],
   "source": [
    "ndcg = df[df.Algorithm.isin(['Popular', 'ItemMean', 'PersMean'])]\n",
    "ndcg = ndcg.pivot(index='Partition', columns='Algorithm', values='TopN_nDCG')\n",
    "ndcg.plot(kind='box')"
   ]
  }
 ],
 "metadata": {
  "kernelspec": {
   "display_name": "Python 3",
   "language": "python",
   "name": "python3"
  },
  "language_info": {
   "codemirror_mode": {
    "name": "ipython",
    "version": 3
   },
   "file_extension": ".py",
   "mimetype": "text/x-python",
   "name": "python",
   "nbconvert_exporter": "python",
   "pygments_lexer": "ipython3",
   "version": "3.4.2"
  }
 },
 "nbformat": 4,
 "nbformat_minor": 0
}
